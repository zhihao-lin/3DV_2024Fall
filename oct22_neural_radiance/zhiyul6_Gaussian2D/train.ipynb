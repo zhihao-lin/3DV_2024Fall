{
 "cells": [
  {
   "cell_type": "code",
   "execution_count": 4,
   "metadata": {},
   "outputs": [],
   "source": [
    "import os\n",
    "import cv2\n",
    "import imageio\n",
    "import numpy as np\n",
    "import matplotlib.pyplot as plt\n",
    "%matplotlib inline\n",
    "import torch\n",
    "from random import randint\n",
    "# from utils.loss_utils import l1_loss, ssim\n",
    "# from gaussian_renderer import render, network_gui\n",
    "import sys\n",
    "# from scene import Scene, GaussianModel\n",
    "# from utils.general_utils import safe_state\n",
    "import uuid\n",
    "from tqdm import tqdm\n",
    "# from utils.image_utils import psnr\n",
    "from argparse import ArgumentParser, Namespace\n",
    "# from arguments import ModelParams, PipelineParams, OptimizationParams\n",
    "\n",
    "from Gaussian2D import Gaussian2DModel\n",
    "\n",
    "try:\n",
    "    from torch.utils.tensorboard import SummaryWriter\n",
    "    TENSORBOARD_FOUND = True\n",
    "except ImportError:\n",
    "    TENSORBOARD_FOUND = False\n",
    "\n",
    "import time\n",
    "\n"
   ]
  },
  {
   "cell_type": "code",
   "execution_count": 6,
   "metadata": {},
   "outputs": [],
   "source": [
    "imgPathList = [\n",
    "    \"./Pics/Pikachu.png\",      # 皮卡丘 600*600\n",
    "    \"./Pics/Charmander.png\",   # 小火龙 600*600\n",
    "    \"./Pics/Squirtle.png\",     # 杰尼龟 600*600\n",
    "    \"./Pics/Bulbasaur.png\",    # 妙蛙种子 600*600\n",
    "    \"./Pics/Lapras.png\",       # 乘龙 600*600\n",
    "    \"./Pics/Meowth.png\",       # 喵喵 600*600\n",
    "    \"./Pics/Mewtwo.png\",       # 梦幻  600*600\n",
    "    \"./Pics/Rayquaza.png\",     # 裂空座 1000*1000\n",
    "    \"./Pics/Groudon.png\"      # 固拉多  1000*1000\n",
    "]\n"
   ]
  },
  {
   "cell_type": "code",
   "execution_count": 29,
   "metadata": {},
   "outputs": [],
   "source": [
    "def createGIF(dirPath):\n",
    "    imageNameList = [f for f in os.listdir(dirPath) if f.endswith('.png')]\n",
    "    frames = []\n",
    "    for imageName in imageNameList:\n",
    "        imgPath = os.path.join(dirPath, imageName)\n",
    "        imgBGR = cv2.imread(imgPath, cv2.IMREAD_COLOR)\n",
    "        imgRGB = cv2.cvtColor(imgBGR, cv2.COLOR_BGR2RGB)\n",
    "        frames.append(imgRGB)\n",
    "    \n",
    "    gifName = f'output_{len(frames)}_frames.gif'\n",
    "    gifPath = os.path.join(dirPath, gifName)\n",
    "    imageio.mimsave(gifPath, frames, duration=0.25)  # duration 是每帧的显示时间 (s)\n",
    "    print(f'GIF saved at: {gifPath}')\n"
   ]
  },
  {
   "cell_type": "code",
   "execution_count": 25,
   "metadata": {},
   "outputs": [],
   "source": [
    "def train(imgPath, Epoch, numGaussian=800, saveRenderInterval=20, densifyInterval=20):\n",
    "\n",
    "    startTime = time.time()\n",
    "    startTimeInt = int(startTime)\n",
    "\n",
    "    imgBGR = cv2.imread(imgPath, flags=cv2.IMREAD_COLOR)\n",
    "    imgRGB = cv2.cvtColor(imgBGR, cv2.COLOR_BGR2RGB)\n",
    "    imgNormalizedRGB = imgRGB/255.0\n",
    "    imgNormalizedBGR = imgBGR/255.0\n",
    "\n",
    "\n",
    "    # cv2.imshow('imgNormalized', imgNormalized)\n",
    "    # cv2.waitKey(100)\n",
    "\n",
    "    # fig =plt.figure(figsize=(10, 5))  # 设置图像大小\n",
    "    # plt.suptitle('Gaussian 2D Model Visualize')  # 设置窗口标题\n",
    "    # fig.canvas.manager.set_window_title('Gaussian 2D Model Visualize')  # 设置窗口标题\n",
    "\n",
    "    imgShape = imgNormalizedRGB.shape\n",
    "    print(imgShape)\n",
    "\n",
    "    gaussian = Gaussian2DModel(numGaussian, imgNormalizedBGR)\n",
    "\n",
    "\n",
    "\n",
    "    numEpochs = Epoch\n",
    "    for epoch in range(numEpochs):\n",
    "        loss = gaussian.lossAndBackwardAndStep()\n",
    "        if epoch % saveRenderInterval == 0:\n",
    "            print(f'Epoch {epoch}, Loss: {loss}')\n",
    "            # imgTorch = gaussian.render()\n",
    "            imgRenderBGR = (gaussian.renderImgTorch).detach().cpu().numpy()\n",
    "            imgRenderBGR255 = (imgRenderBGR*255).astype(np.int32)\n",
    "            \n",
    "            avatarName = os.path.splitext(os.path.basename(imgPath))[0]\n",
    "            fileName = rf\"Epoch_{epoch:04}_Loss_{loss:08.5f}.png\"\n",
    "            fileDirPath = rf\"./output/{startTimeInt}_{Epoch}_Epoch_{numGaussian}_Gaussians_{avatarName}\"\n",
    "            \n",
    "            if not os.path.exists(fileDirPath):\n",
    "                os.mkdir(fileDirPath)\n",
    "            filePath = os.path.join(fileDirPath, fileName)\n",
    "            \n",
    "            absolutePath = os.path.abspath(filePath)\n",
    "            \n",
    "            print(\"absolutePath : \", absolutePath)\n",
    "            \n",
    "            cv2.imwrite(filePath, imgRenderBGR255)\n",
    "            \n",
    "            # imgRenderRGB = cv2.cvtColor(imgRenderBGR, cv2.COLOR_BGR2RGB)\n",
    "            \n",
    "            # plt.clf()\n",
    "            \n",
    "            # plt.subplot(1, 2, 1)  # 1行2列，当前为第1个\n",
    "            # plt.imshow(imgNormalizedRGB)\n",
    "            # plt.axis('off')  # 关闭坐标轴\n",
    "            # plt.title('Original Image')\n",
    "            \n",
    "            # plt.subplot(1, 2, 2)  # 1行2列，当前为第1个\n",
    "            # # plt.gcf().canvas.setWindowTitle(f'Epoch: {epoch}, Loss: {loss:.4f}')  # 设置窗口标题\n",
    "            # plt.imshow(imgRenderRGB)\n",
    "            # plt.axis('off')  # 关闭坐标轴\n",
    "            # plt.title(f'Epoch: {epoch}, Loss: {loss:.4f}')\n",
    "            \n",
    "            # plt.show()\n",
    "            # plt.pause(0.1)  # 暂停以更新图像\n",
    "            \n",
    "    return fileDirPath\n",
    "\n",
    "    # cv2.waitKey(0)\n",
    "    # cv2.destroyAllWindows()\n"
   ]
  },
  {
   "cell_type": "code",
   "execution_count": 30,
   "metadata": {},
   "outputs": [
    {
     "name": "stdout",
     "output_type": "stream",
     "text": [
      "GIF saved at: output/1729555929_300_Epoch_100_Gaussians_Pikachu/output_15_frames.gif\n"
     ]
    }
   ],
   "source": [
    "fileDirPath = train(imgPath=imgPathList[0], Epoch=300, numGaussian=100, saveRenderInterval=20)\n",
    "# fileDirPath = r\"output/1729555929_300_Epoch_100_Gaussians_Pikachu\"\n",
    "createGIF(fileDirPath)\n"
   ]
  }
 ],
 "metadata": {
  "kernelspec": {
   "display_name": "Python 3",
   "language": "python",
   "name": "python3"
  },
  "language_info": {
   "codemirror_mode": {
    "name": "ipython",
    "version": 3
   },
   "file_extension": ".py",
   "mimetype": "text/x-python",
   "name": "python",
   "nbconvert_exporter": "python",
   "pygments_lexer": "ipython3",
   "version": "3.10.12"
  }
 },
 "nbformat": 4,
 "nbformat_minor": 2
}
